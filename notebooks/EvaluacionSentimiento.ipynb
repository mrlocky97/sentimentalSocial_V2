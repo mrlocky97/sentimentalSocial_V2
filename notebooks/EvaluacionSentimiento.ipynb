{
 "cells": [
  {
   "cell_type": "code",
   "execution_count": null,
   "id": "1d508d33",
   "metadata": {},
   "outputs": [
    {
     "ename": "ValueError",
     "evalue": "'crowdflower/twitter-airline-sentiment' is not a valid KaggleDatasetAdapter",
     "output_type": "error",
     "traceback": [
      "\u001b[31m---------------------------------------------------------------------------\u001b[39m",
      "\u001b[31mValueError\u001b[39m                                Traceback (most recent call last)",
      "\u001b[36mCell\u001b[39m\u001b[36m \u001b[39m\u001b[32mIn[6]\u001b[39m\u001b[32m, line 11\u001b[39m\n\u001b[32m      8\u001b[39m path = kagglehub.dataset_download(\u001b[33m\"\u001b[39m\u001b[33mcrowdflower/twitter-airline-sentiment\u001b[39m\u001b[33m\"\u001b[39m)\n\u001b[32m     10\u001b[39m \u001b[38;5;66;03m# 4) Crea un adaptador de KaggleDatasetAdapter\u001b[39;00m\n\u001b[32m---> \u001b[39m\u001b[32m11\u001b[39m adapter = \u001b[43mKaggleDatasetAdapter\u001b[49m\u001b[43m(\u001b[49m\u001b[33;43m\"\u001b[39;49m\u001b[33;43mcrowdflower/twitter-airline-sentiment\u001b[39;49m\u001b[33;43m\"\u001b[39;49m\u001b[43m)\u001b[49m \n\u001b[32m     12\u001b[39m \u001b[38;5;66;03m# 5) Guarda el DataFrame en el adaptador\u001b[39;00m\n\u001b[32m     13\u001b[39m adapter.save_dataframe(df, \u001b[33m\"\u001b[39m\u001b[33mtwitter_airline_sentiment.csv\u001b[39m\u001b[33m\"\u001b[39m)\n",
      "\u001b[36mFile \u001b[39m\u001b[32mc:\\python312\\Lib\\enum.py:751\u001b[39m, in \u001b[36mEnumType.__call__\u001b[39m\u001b[34m(cls, value, names, module, qualname, type, start, boundary, *values)\u001b[39m\n\u001b[32m    749\u001b[39m     \u001b[38;5;28;01mif\u001b[39;00m names \u001b[38;5;129;01mis\u001b[39;00m \u001b[38;5;129;01mnot\u001b[39;00m _not_given:\n\u001b[32m    750\u001b[39m         value = (value, names) + values\n\u001b[32m--> \u001b[39m\u001b[32m751\u001b[39m     \u001b[38;5;28;01mreturn\u001b[39;00m \u001b[38;5;28;43mcls\u001b[39;49m\u001b[43m.\u001b[49m\u001b[34;43m__new__\u001b[39;49m\u001b[43m(\u001b[49m\u001b[38;5;28;43mcls\u001b[39;49m\u001b[43m,\u001b[49m\u001b[43m \u001b[49m\u001b[43mvalue\u001b[49m\u001b[43m)\u001b[49m\n\u001b[32m    752\u001b[39m \u001b[38;5;66;03m# otherwise, functional API: we're creating a new Enum type\u001b[39;00m\n\u001b[32m    753\u001b[39m \u001b[38;5;28;01mif\u001b[39;00m names \u001b[38;5;129;01mis\u001b[39;00m _not_given \u001b[38;5;129;01mand\u001b[39;00m \u001b[38;5;28mtype\u001b[39m \u001b[38;5;129;01mis\u001b[39;00m \u001b[38;5;28;01mNone\u001b[39;00m:\n\u001b[32m    754\u001b[39m     \u001b[38;5;66;03m# no body? no data-type? possibly wrong usage\u001b[39;00m\n",
      "\u001b[36mFile \u001b[39m\u001b[32mc:\\python312\\Lib\\enum.py:1165\u001b[39m, in \u001b[36mEnum.__new__\u001b[39m\u001b[34m(cls, value)\u001b[39m\n\u001b[32m   1163\u001b[39m ve_exc = \u001b[38;5;167;01mValueError\u001b[39;00m(\u001b[33m\"\u001b[39m\u001b[38;5;132;01m%r\u001b[39;00m\u001b[33m is not a valid \u001b[39m\u001b[38;5;132;01m%s\u001b[39;00m\u001b[33m\"\u001b[39m % (value, \u001b[38;5;28mcls\u001b[39m.\u001b[34m__qualname__\u001b[39m))\n\u001b[32m   1164\u001b[39m \u001b[38;5;28;01mif\u001b[39;00m result \u001b[38;5;129;01mis\u001b[39;00m \u001b[38;5;28;01mNone\u001b[39;00m \u001b[38;5;129;01mand\u001b[39;00m exc \u001b[38;5;129;01mis\u001b[39;00m \u001b[38;5;28;01mNone\u001b[39;00m:\n\u001b[32m-> \u001b[39m\u001b[32m1165\u001b[39m     \u001b[38;5;28;01mraise\u001b[39;00m ve_exc\n\u001b[32m   1166\u001b[39m \u001b[38;5;28;01melif\u001b[39;00m exc \u001b[38;5;129;01mis\u001b[39;00m \u001b[38;5;28;01mNone\u001b[39;00m:\n\u001b[32m   1167\u001b[39m     exc = \u001b[38;5;167;01mTypeError\u001b[39;00m(\n\u001b[32m   1168\u001b[39m             \u001b[33m'\u001b[39m\u001b[33merror in \u001b[39m\u001b[38;5;132;01m%s\u001b[39;00m\u001b[33m._missing_: returned \u001b[39m\u001b[38;5;132;01m%r\u001b[39;00m\u001b[33m instead of None or a valid member\u001b[39m\u001b[33m'\u001b[39m\n\u001b[32m   1169\u001b[39m             % (\u001b[38;5;28mcls\u001b[39m.\u001b[34m__name__\u001b[39m, result)\n\u001b[32m   1170\u001b[39m             )\n",
      "\u001b[31mValueError\u001b[39m: 'crowdflower/twitter-airline-sentiment' is not a valid KaggleDatasetAdapter"
     ]
    }
   ],
   "source": [
    "import os\n",
    "import pandas as pd\n",
    "import kagglehub\n",
    "\n",
    "# 1) Descarga y extracción\n",
    "path = kagglehub.dataset_download(\"crowdflower/twitter-airline-sentiment\")\n",
    "\n",
    "# 2) Lee el archivo CSV descargado\n",
    "df = pd.read_csv(os.path.join(path, \"Tweets.csv\"))\n",
    "\n",
    "# 3) Muestra las primeras filas del DataFrame\n",
    "print(\"Primeras 5 filas del DataFrame:\\n\", df.head())"
   ]
  }
 ],
 "metadata": {
  "kernelspec": {
   "display_name": "venv",
   "language": "python",
   "name": "python3"
  },
  "language_info": {
   "codemirror_mode": {
    "name": "ipython",
    "version": 3
   },
   "file_extension": ".py",
   "mimetype": "text/x-python",
   "name": "python",
   "nbconvert_exporter": "python",
   "pygments_lexer": "ipython3",
   "version": "3.12.8"
  }
 },
 "nbformat": 4,
 "nbformat_minor": 5
}
